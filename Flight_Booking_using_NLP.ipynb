{
  "cells": [
    {
      "cell_type": "markdown",
      "metadata": {
        "id": "view-in-github",
        "colab_type": "text"
      },
      "source": [
        "<a href=\"https://colab.research.google.com/github/Savisolanki/Flight_Booking-NLP/blob/main/Flight_Booking_using_NLP.ipynb\" target=\"_parent\"><img src=\"https://colab.research.google.com/assets/colab-badge.svg\" alt=\"Open In Colab\"/></a>"
      ]
    },
    {
      "cell_type": "code",
      "execution_count": 2,
      "metadata": {
        "id": "Z_nTQXJTvakl"
      },
      "outputs": [],
      "source": [
        "\n",
        "import pandas as pd\n",
        "import numpy as np\n",
        "from sklearn.metrics.pairwise import cosine_similarity\n",
        "import torch\n",
        "from transformers import BertTokenizer, BertModel\n",
        "\n",
        "tokenizer = BertTokenizer.from_pretrained('bert-base-uncased')\n",
        "model = BertModel.from_pretrained('bert-base-uncased')\n"
      ]
    },
    {
      "cell_type": "code",
      "source": [
        "def preprocess_text(text):\n",
        "    return text.lower().strip()\n",
        "\n",
        "# Function to generate BERT embeddings\n",
        "def generate_bert_embeddings(text):\n",
        "    inputs = tokenizer(text, return_tensors='pt', max_length=512, truncation=True)\n",
        "    with torch.no_grad():\n",
        "        outputs = model(**inputs)\n",
        "    cls_embedding = outputs.last_hidden_state[:, 0, :].numpy()\n",
        "    return cls_embedding\n"
      ],
      "metadata": {
        "id": "XQK-dDStVSnz"
      },
      "execution_count": 3,
      "outputs": []
    },
    {
      "cell_type": "code",
      "source": [
        "df_flight = pd.read_csv('/content/Flight Booking.csv')\n",
        "\n",
        "# Sample 1000 records for faster execution\n",
        "df_flight_sample = df_flight.sample(n=1000).copy()\n",
        "\n",
        "# Preprocess text data and generate BERT embeddings\n",
        "df_flight_sample['source_city'] = df_flight_sample['source_city'].apply(preprocess_text)\n",
        "df_flight_sample['destination_city'] = df_flight_sample['destination_city'].apply(preprocess_text)\n",
        "df_flight_sample['text_combined'] = df_flight_sample['source_city'] + ' to ' + df_flight_sample['destination_city']\n",
        "df_flight_sample['bert_embeddings'] = df_flight_sample['text_combined'].apply(generate_bert_embeddings)\n"
      ],
      "metadata": {
        "id": "-nvcN3TfVVaW"
      },
      "execution_count": 4,
      "outputs": []
    },
    {
      "cell_type": "code",
      "source": [
        "def calculate_similarity(user_input_embedding, flight_embeddings):\n",
        "    similarities = cosine_similarity(user_input_embedding.reshape(1, -1), flight_embeddings)\n",
        "    return similarities.flatten()\n",
        "\n",
        "def generate_bert_embeddings_batch(texts):\n",
        "    inputs = tokenizer(texts, return_tensors='pt', max_length=512, truncation=True, padding=True)\n",
        "    with torch.no_grad():\n",
        "        outputs = model(**inputs)\n",
        "    cls_embeddings = outputs.last_hidden_state[:, 0, :].numpy()\n",
        "    return cls_embeddings\n"
      ],
      "metadata": {
        "id": "0XSOjs5HVb1R"
      },
      "execution_count": 5,
      "outputs": []
    },
    {
      "cell_type": "code",
      "source": [
        "def process_and_recommend(user_input, df_sample):\n",
        "    # Tokenize user input and obtain BERT embedding\n",
        "    user_input_embedding = generate_bert_embeddings(user_input)\n",
        "\n",
        "    batch_size = 100\n",
        "    similarities = []\n",
        "    for i in range(0, len(df_sample), batch_size):\n",
        "        batch_texts = df_sample['text_combined'].iloc[i:i+batch_size].tolist()\n",
        "        batch_embeddings = generate_bert_embeddings_batch(batch_texts)\n",
        "        similarity_batch = calculate_similarity(user_input_embedding, batch_embeddings)\n",
        "        similarities.extend(similarity_batch)\n",
        "    df_sample['similarity_score'] = similarities\n",
        "\n",
        "    # Sort DataFrame by similarity score\n",
        "    df_sorted = df_sample.sort_values(by='similarity_score', ascending=False)\n",
        "\n",
        "    top_recommendations = df_sorted[['airline', 'flight', 'price']].head(5)\n",
        "    return top_recommendations\n",
        "\n",
        "# Function to filter flights by airline\n",
        "def filter_flights_by_airline(df_sample, airline):\n",
        "    filtered_df = df_sample[df_sample['airline'].str.lower() == airline.lower()]\n",
        "    return filtered_df\n"
      ],
      "metadata": {
        "id": "mLBaYGp4VuPk"
      },
      "execution_count": 8,
      "outputs": []
    },
    {
      "cell_type": "code",
      "source": [
        "while True:\n",
        "    user_input = input(\"You: \")\n",
        "    if user_input.lower() == 'exit':\n",
        "        print(\"Bot: Goodbye!\")\n",
        "        break\n",
        "    else:\n",
        "        airline_keywords = ['only', 'flights', 'of']\n",
        "        if any(keyword in user_input.lower() for keyword in airline_keywords):\n",
        "            # Extract airline name from user input\n",
        "            words = user_input.split()\n",
        "            airline_index = words.index('of') if 'of' in words else len(words) - 1\n",
        "            airline = ' '.join(words[airline_index + 1:])\n",
        "            df_filtered = filter_flights_by_airline(df_flight_sample, airline)\n",
        "            recommendations = process_and_recommend(user_input, df_filtered)\n",
        "        else:\n",
        "            recommendations = process_and_recommend(user_input, df_flight_sample)\n",
        "\n",
        "        print(\"Bot: Here are the top flight recommendations based on your input:\")\n",
        "        print(recommendations)\n"
      ],
      "metadata": {
        "colab": {
          "base_uri": "https://localhost:8080/"
        },
        "id": "8OYqGtLdV_Rd",
        "outputId": "6a838316-4ed2-4317-c663-7f680a891dcc"
      },
      "execution_count": 10,
      "outputs": [
        {
          "output_type": "stream",
          "name": "stdout",
          "text": [
            "You: I want to book a ticket from Mumbai To Delhi\n",
            "Bot: Here are the top flight recommendations based on your input:\n",
            "        airline   flight    price\n",
            "152638  AirAsia  I5-1543   6131.0\n",
            "153225  Vistara   UK-874  10018.0\n",
            "153601   Indigo   6E-913   9073.0\n",
            "154395  AirAsia   I5-974   2228.0\n",
            "153266  Vistara   UK-894  11488.0\n",
            "You: Show me the flight with less than 4 hours.\n",
            "Bot: Here are the top flight recommendations based on your input:\n",
            "        airline   flight   price\n",
            "30397   Vistara   UK-927  5772.0\n",
            "33061    Indigo  6E-6205  3013.0\n",
            "29168   Vistara   UK-995  9840.0\n",
            "31726   Vistara   UK-637  6533.0\n",
            "32916  GO_FIRST   G8-422  2098.0\n",
            "You: I need a morning flight from Mumbai To Kolkata M\n",
            "Bot: Here are the top flight recommendations based on your input:\n",
            "        airline   flight    price\n",
            "3679  Air_India   AI-429   4170.0\n",
            "4769  Air_India   AI-429   4170.0\n",
            "8748   GO_FIRST   G8-266  11291.0\n",
            "3254    Vistara   UK-879   5227.0\n",
            "4193  Air_India  AI-9609   6654.0\n",
            "You: exit\n",
            "Bot: Goodbye!\n"
          ]
        }
      ]
    },
    {
      "cell_type": "code",
      "source": [],
      "metadata": {
        "id": "TIX_hlljWClp"
      },
      "execution_count": null,
      "outputs": []
    }
  ],
  "metadata": {
    "colab": {
      "provenance": [],
      "authorship_tag": "ABX9TyPsXOejMVqRygO6uMnfgtyJ",
      "include_colab_link": true
    },
    "kernelspec": {
      "display_name": "Python 3",
      "name": "python3"
    },
    "language_info": {
      "name": "python"
    }
  },
  "nbformat": 4,
  "nbformat_minor": 0
}